{
  "cells": [
    {
      "cell_type": "code",
      "metadata": {
        "jukit_cell_id": "oY19PTkA5E"
      },
      "source": [
        "import pandas as pd, plotly.express as px, umap\n",
        "\n",
        "from pathlib import Path\n",
        "from sklearn.datasets import load_breast_cancer"
      ],
      "outputs": [],
      "execution_count": null
    },
    {
      "cell_type": "code",
      "metadata": {
        "jukit_cell_id": "8C9r88WE4J"
      },
      "source": [
        "data, meta_data = load_breast_cancer(return_X_y = True, as_frame = True)\n",
        "\n",
        "data.columns"
      ],
      "outputs": [
        {
          "output_type": "stream",
          "name": "stdout",
          "text": "\n"
        },
        {
          "output_type": "execute_result",
          "execution_count": 1,
          "data": {
            "text/plain": "Index(['mean radius', 'mean texture', 'mean perimeter', 'mean area',\n       'mean smoothness', 'mean compactness', 'mean concavity',\n       'mean concave points', 'mean symmetry', 'mean fractal dimension',\n       'radius error', 'texture error', 'perimeter error', 'area error',\n       'smoothness error', 'compactness error', 'concavity error',\n       'concave points error', 'symmetry error', 'fractal dimension error',\n       'worst radius', 'worst texture', 'worst perimeter', 'worst area',\n       'worst smoothness', 'worst compactness', 'worst concavity',\n       'worst concave points', 'worst symmetry', 'worst fractal dimension'],\n      dtype='object')"
          },
          "metadata": {}
        }
      ],
      "execution_count": 1
    },
    {
      "cell_type": "code",
      "metadata": {
        "jukit_cell_id": "m2Y7QcY6OD"
      },
      "source": [
        "meta_data"
      ],
      "outputs": [
        {
          "output_type": "stream",
          "name": "stdout",
          "text": "\n"
        },
        {
          "output_type": "execute_result",
          "execution_count": 2,
          "data": {
            "text/plain": "0      0\n1      0\n2      0\n3      0\n4      0\n      ..\n564    0\n565    0\n566    0\n567    0\n568    1\nName: target, Length: 569, dtype: int64"
          },
          "metadata": {}
        }
      ],
      "execution_count": 2
    },
    {
      "cell_type": "code",
      "metadata": {
        "jukit_cell_id": "mGe34s0GDH"
      },
      "source": [
        "meta_data = pd.DataFrame(meta_data)\n",
        "#Let's add another bit of metadata just for the heck of it.\n",
        "meta_data['big_radius'] = data['mean radius'] > data['mean radius'].mean()"
      ],
      "outputs": [],
      "execution_count": null
    },
    {
      "cell_type": "code",
      "metadata": {
        "jukit_cell_id": "eY6JJ8QnVA"
      },
      "source": [
        "reducer_2d = umap.UMAP(n_components = 2)\n",
        "results_2d = pd.DataFrame(data = reducer_2d.fit_transform(data), columns = ['2d1','2d2'])\n",
        "\n",
        "# Let's do it all at once, because we can\n",
        "results_3d = pd.DataFrame(data = umap.UMAP(n_components = 3).fit_transform(data), columns = ['3d1','3d2','3d3'])\n",
        "\n",
        "# WWCA means \"What We Care About\"\n",
        "wwca = meta_data.join(results_2d).join(results_3d)\n",
        "wwca"
      ],
      "outputs": [
        {
          "output_type": "stream",
          "name": "stdout",
          "text": "\n"
        },
        {
          "output_type": "execute_result",
          "execution_count": 3,
          "data": {
            "text/plain": "     target  big_radius        2d1       2d2        3d1       3d2       3d3\n0         0        True  10.525769  2.004924  13.557387  2.851513  7.784062\n1         0        True  10.171386  2.059343  13.375252  2.896229  7.982438\n2         0        True  11.071662  3.334772  13.381915  4.062381  6.990562\n3         0       False  -0.546467  6.016317  -1.591870  4.945582  5.073776\n4         0        True  11.023631  3.711662  13.108088  4.444450  6.907868\n..      ...         ...        ...       ...        ...       ...       ...\n564       0        True  10.080576  1.730067  13.302131  2.439194  8.346813\n565       0        True  10.871721  3.207210  13.365547  3.954024  7.257575\n566       0        True  11.090828  9.521077   9.674644  9.619042  3.649511\n567       0        True  10.647588  2.813657  13.464987  3.653803  7.487882\n568       1       False  -4.408195 -4.986617  -3.340781 -1.224677 -2.908774\n\n[569 rows x 7 columns]"
          },
          "metadata": {}
        }
      ],
      "execution_count": 3
    },
    {
      "cell_type": "markdown",
      "metadata": {
        "jukit_cell_id": "RC2Z0gahgY"
      },
      "source": [
        "# Initial plotting with plotly"
      ]
    },
    {
      "cell_type": "code",
      "metadata": {
        "jukit_cell_id": "0foch0zS43"
      },
      "source": [
        "fig = px.scatter(wwca, x='2d1',y='2d1')\n",
        "fig.show()"
      ],
      "outputs": [],
      "execution_count": null
    },
    {
      "cell_type": "markdown",
      "metadata": {
        "jukit_cell_id": "4U3G93u08T"
      },
      "source": [
        "# Clean up the label to something people like"
      ]
    },
    {
      "cell_type": "code",
      "metadata": {
        "jukit_cell_id": "LI20dW1L0N"
      },
      "source": [
        "new_data['text label'] = labels.map(lambda x: ['Benign','Malignant'][x])\n",
        "new_data"
      ],
      "outputs": [
        {
          "output_type": "stream",
          "name": "stdout",
          "text": "\n"
        },
        {
          "output_type": "execute_result",
          "execution_count": 4,
          "data": {
            "text/plain": "            d1        d2      label text label\n0    10.241105 -0.926771     Benign     Benign\n1    10.563326 -1.051887     Benign     Benign\n2    11.028148  0.487072     Benign     Benign\n3    -0.890983  7.078265     Benign     Benign\n4    11.367149  0.589767     Benign     Benign\n..         ...       ...        ...        ...\n564  10.580154 -1.588664     Benign     Benign\n565  11.057127  0.111496     Benign     Benign\n566  10.132827  8.208202     Benign     Benign\n567  10.739155 -0.428516     Benign     Benign\n568  -2.306198 -4.582163  Malignant  Malignant\n\n[569 rows x 4 columns]"
          },
          "metadata": {}
        }
      ],
      "execution_count": 4
    },
    {
      "cell_type": "code",
      "metadata": {
        "jukit_cell_id": "5sSbn2D9QS"
      },
      "source": [
        "new_data"
      ],
      "outputs": [
        {
          "output_type": "stream",
          "name": "stdout",
          "text": "\n"
        },
        {
          "output_type": "execute_result",
          "execution_count": 5,
          "data": {
            "text/plain": "            d1        d2      label text label\n0    10.241105 -0.926771     Benign     Benign\n1    10.563326 -1.051887     Benign     Benign\n2    11.028148  0.487072     Benign     Benign\n3    -0.890983  7.078265     Benign     Benign\n4    11.367149  0.589767     Benign     Benign\n..         ...       ...        ...        ...\n564  10.580154 -1.588664     Benign     Benign\n565  11.057127  0.111496     Benign     Benign\n566  10.132827  8.208202     Benign     Benign\n567  10.739155 -0.428516     Benign     Benign\n568  -2.306198 -4.582163  Malignant  Malignant\n\n[569 rows x 4 columns]"
          },
          "metadata": {}
        }
      ],
      "execution_count": 5
    }
  ],
  "metadata": {
    "anaconda-cloud": {},
    "kernelspec": {
      "display_name": "python",
      "language": "python",
      "name": "python3"
    }
  },
  "nbformat": 4,
  "nbformat_minor": 4
}